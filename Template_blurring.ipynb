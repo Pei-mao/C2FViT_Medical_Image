{
 "cells": [
  {
   "cell_type": "code",
   "execution_count": 2,
   "id": "ef125dce-aa05-435f-a33f-9e1f4c8119ec",
   "metadata": {},
   "outputs": [],
   "source": [
    "import nibabel as nib\n",
    "import numpy as np\n",
    "from scipy.ndimage import gaussian_filter, zoom\n",
    "\n",
    "# 讀取影像\n",
    "image_nii = nib.load('/NFS/PeiMao/AffTestTemplate/CC0245/mni152_reshape_norm.nii.gz')\n",
    "image_data = image_nii.get_fdata()\n",
    "\n",
    "# 讀取分割標籤\n",
    "segmentation_nii = nib.load('/NFS/PeiMao/AffTestTemplate/CC0245/mni152_reshape_norm_aseg.nii.gz')\n",
    "segmentation_data = segmentation_nii.get_fdata()\n",
    "\n",
    "# 定義模糊程度 (標準差 sigma)\n",
    "sigma = 1.0  # 可根據需求調整\n",
    "blurred_image_data = gaussian_filter(image_data, sigma=sigma)\n",
    "\n",
    "# 計算影像與 segmentation 的形狀比例（假設需要調整尺寸）\n",
    "scale_factors = np.array(blurred_image_data.shape) / np.array(segmentation_data.shape)\n",
    "\n",
    "# 使用最近鄰插值進行縮放以保持標籤的整數性\n",
    "adjusted_segmentation_data = zoom(segmentation_data, zoom=scale_factors, order=0)\n",
    "\n",
    "# 保存模糊影像\n",
    "blurred_image_nii = nib.Nifti1Image(blurred_image_data, image_nii.affine, image_nii.header)\n",
    "nib.save(blurred_image_nii, '/NFS/PeiMao/AffTestTemplate/CC0245_blur/mni152_reshape_norm.nii.gz')\n",
    "\n",
    "# 保存調整後的分割標籤\n",
    "adjusted_segmentation_nii = nib.Nifti1Image(adjusted_segmentation_data, segmentation_nii.affine, segmentation_nii.header)\n",
    "nib.save(adjusted_segmentation_nii, '/NFS/PeiMao/AffTestTemplate/CC0245_blur/mni152_reshape_norm_aseg.nii.gz')\n"
   ]
  }
 ],
 "metadata": {
  "kernelspec": {
   "display_name": "Python [conda env:base] *",
   "language": "python",
   "name": "conda-base-py"
  },
  "language_info": {
   "codemirror_mode": {
    "name": "ipython",
    "version": 3
   },
   "file_extension": ".py",
   "mimetype": "text/x-python",
   "name": "python",
   "nbconvert_exporter": "python",
   "pygments_lexer": "ipython3",
   "version": "3.10.14"
  }
 },
 "nbformat": 4,
 "nbformat_minor": 5
}
