{
 "cells": [
  {
   "cell_type": "code",
   "execution_count": 1,
   "id": "9e01a542-a2ef-4f04-8274-aa21d239f2a4",
   "metadata": {},
   "outputs": [
    {
     "name": "stderr",
     "output_type": "stream",
     "text": [
      "/opt/conda/lib/python3.10/site-packages/scipy/__init__.py:146: UserWarning: A NumPy version >=1.16.5 and <1.23.0 is required for this version of SciPy (detected version 1.24.3\n",
      "  warnings.warn(f\"A NumPy version >={np_minversion} and <{np_maxversion}\"\n"
     ]
    }
   ],
   "source": [
    "import nibabel as nib\n",
    "import numpy as np\n",
    "import os\n",
    "\n",
    "def crop_nii_image(input_image_path, input_segmentation_path, output_image_path, output_segmentation_path, crop_size):\n",
    "    # 讀取影像和 segmentation\n",
    "    image_nii = nib.load(input_image_path)\n",
    "    segmentation_nii = nib.load(input_segmentation_path)\n",
    "\n",
    "    image_data = image_nii.get_fdata()\n",
    "    segmentation_data = segmentation_nii.get_fdata()\n",
    "\n",
    "    # 計算 Crop 範圍\n",
    "    original_shape = image_data.shape\n",
    "    crop_start = [(original_shape[i] - crop_size[i]) // 2 for i in range(3)]\n",
    "    crop_end = [crop_start[i] + crop_size[i] for i in range(3)]\n",
    "\n",
    "    # Crop\n",
    "    cropped_image = image_data[\n",
    "        crop_start[0]:crop_end[0],\n",
    "        crop_start[1]:crop_end[1],\n",
    "        crop_start[2]:crop_end[2],\n",
    "    ]\n",
    "    cropped_segmentation = segmentation_data[\n",
    "        crop_start[0]:crop_end[0],\n",
    "        crop_start[1]:crop_end[1],\n",
    "        crop_start[2]:crop_end[2],\n",
    "    ]\n",
    "\n",
    "    # 保存 Crop 後的影像\n",
    "    cropped_image_nii = nib.Nifti1Image(cropped_image, affine=image_nii.affine)\n",
    "    cropped_segmentation_nii = nib.Nifti1Image(cropped_segmentation, affine=segmentation_nii.affine)\n",
    "\n",
    "    nib.save(cropped_image_nii, output_image_path)\n",
    "    nib.save(cropped_segmentation_nii, output_segmentation_path)\n",
    "\n",
    "# 指定檔案路徑\n",
    "input_image_path = '/NFS/PeiMao/AffTestTemplate/CC0245/mni152_reshape_norm.nii.gz'\n",
    "input_segmentation_path = '/NFS/PeiMao/AffTestTemplate/CC0245/mni152_reshape_norm_aseg.nii.gz'\n",
    "output_image_path = '/NFS/PeiMao/AffTestTemplate/CC0245_crop/mni152_reshape_norm.nii.gz'\n",
    "output_segmentation_path = '/NFS/PeiMao/AffTestTemplate/CC0245_crop/mni152_reshape_norm_aseg.nii.gz'\n",
    "\n",
    "# 指定 Crop 尺寸\n",
    "crop_size = (160, 224, 192)\n",
    "\n",
    "# 執行 Crop\n",
    "crop_nii_image(input_image_path, input_segmentation_path, output_image_path, output_segmentation_path, crop_size)\n"
   ]
  }
 ],
 "metadata": {
  "kernelspec": {
   "display_name": "Python 3 (ipykernel)",
   "language": "python",
   "name": "python3"
  },
  "language_info": {
   "codemirror_mode": {
    "name": "ipython",
    "version": 3
   },
   "file_extension": ".py",
   "mimetype": "text/x-python",
   "name": "python",
   "nbconvert_exporter": "python",
   "pygments_lexer": "ipython3",
   "version": "3.10.12"
  }
 },
 "nbformat": 4,
 "nbformat_minor": 5
}
