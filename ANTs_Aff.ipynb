{
 "cells": [
  {
   "cell_type": "code",
   "execution_count": 3,
   "id": "3b000d0d-e26d-4c8d-90ee-d214271ba7e4",
   "metadata": {},
   "outputs": [
    {
     "name": "stdout",
     "output_type": "stream",
     "text": [
      "/NFS/PeiMao/ANTsPy\n"
     ]
    },
    {
     "name": "stderr",
     "output_type": "stream",
     "text": [
      "preprocessing: 100% 60/60 [05:28<00:00,  5.48s/it]"
     ]
    },
    {
     "name": "stdout",
     "output_type": "stream",
     "text": [
      "[4.230368375778198, 3.4752461910247803, 4.429830074310303, 4.812897205352783, 3.8448009490966797, 3.6534736156463623, 4.349344730377197, 4.8433239459991455, 3.8143293857574463, 4.277705907821655, 3.878399610519409, 4.409769296646118, 3.4953746795654297, 4.699788331985474, 4.320594310760498, 4.383852481842041, 4.0224995613098145, 4.3392205238342285, 4.3920979499816895, 4.94590425491333, 3.975935935974121, 4.436210632324219, 4.424926042556763, 4.941119909286499, 4.79145884513855, 3.9332361221313477, 4.080642223358154, 5.207021474838257, 3.9882709980010986, 4.9805779457092285, 5.746152400970459, 5.983874559402466, 5.247522830963135, 5.418766975402832, 5.330777645111084, 4.985001564025879, 5.477198362350464, 5.846236944198608, 5.791511058807373, 3.726624011993408, 4.855383396148682, 4.461724758148193, 5.0227038860321045, 4.447296619415283, 4.4374754428863525, 5.232571840286255, 5.276817798614502, 4.919445514678955, 4.678992748260498, 4.757597923278809, 5.235907554626465, 3.963068962097168, 4.778412818908691, 4.9873206615448, 4.332884073257446, 4.842451810836792, 4.250671863555908, 4.88464093208313, 4.893826484680176]\n",
      "平均時間:  4.630357338210284\n",
      "標準差: 0.5964021727937645\n"
     ]
    },
    {
     "name": "stderr",
     "output_type": "stream",
     "text": [
      "\n"
     ]
    }
   ],
   "source": [
    "#use ants registration data to ABIDE\n",
    "import os\n",
    "import nibabel as nib\n",
    "from tqdm import tqdm\n",
    "%cd /NFS/PeiMao/ANTsPy\n",
    "import ants\n",
    "import time\n",
    "import statistics\n",
    "\n",
    "\n",
    "# 设置包含 .nii.gz 文件的目录路径\n",
    "directory_path = '/NFS/PeiMao/dataset_tigerbx/CC359_60'\n",
    "\n",
    "# 生成文件路径列表\n",
    "nii_gz_files = [os.path.join(directory_path, file) for file in os.listdir(directory_path) if file.endswith('.nii.gz')]\n",
    "#fixed_image = ants.image_read('/NFS/PeiMao/GitHub/C2FViT_Medical_Image/Data/MNI152_T1_1mm_brain_pad_RSP_RAS_crop.nii.gz')  # 模板影像\n",
    "fixed_image = ants.image_read('/NFS/PeiMao/AffTestTemplate/ABIDE_0050004_tbet_pad/mni152_reshape_norm.nii.gz')  # 模板影像\n",
    "\n",
    "reg_times = []\n",
    "for file in tqdm(nii_gz_files, desc='preprocessing'):\n",
    "    #多餘的\n",
    "    if not os.path.exists(os.path.join('/NFS/PeiMao/GitHub/C2FViT_Medical_Image/Result_ANTs2ABIDE', os.path.basename(file))):\n",
    "        # 加载图像数据\n",
    "        moving_image = ants.image_read(file)\n",
    "        moving_seg = ants.image_read('/NFS/PeiMao/dataset_tigerbx/CC359_60_aseg/'+ file.split(\"/\")[-1].replace('.nii', '_aseg.nii'))\n",
    "        \n",
    "        start = time.time()        \n",
    "        # 進行仿射註冊\n",
    "        mytx = ants.registration(fixed=fixed_image, moving=moving_image, type_of_transform='Affine')\n",
    "        reg_time = time.time() - start\n",
    "        reg_times.append(reg_time)\n",
    "        \n",
    "        # 将形变场作用于moving图像，得到配准后的图像，interpolator也可以选择\"nearestNeighbor\"等\n",
    "        warped_img = ants.apply_transforms(fixed=fixed_image, moving=moving_image, transformlist=mytx['fwdtransforms'], interpolator=\"linear\")\n",
    "        # 对moving图像对应的label图进行配准\n",
    "        warped_label = ants.apply_transforms(fixed=fixed_image, moving=moving_seg, transformlist=mytx['fwdtransforms'], interpolator=\"nearestNeighbor\")\n",
    "    \n",
    "        # 獲取仿射變換後的影像\n",
    "        #transformed_moving_image = registration['warpedmovout']\n",
    "        # 如果需要，保存變換後的影像\n",
    "        ants.image_write(warped_img, '/NFS/PeiMao/GitHub/C2FViT_Medical_Image/Result_ANTs2ABIDE/' + file.split(\"/\")[-1])\n",
    "        ants.image_write(warped_label, '/NFS/PeiMao/GitHub/C2FViT_Medical_Image/Result_ANTs2ABIDE/' + file.split(\"/\")[-1].replace('.nii', '_aseg.nii'))\n",
    "    \n",
    "print(reg_times)\n",
    "print(\"平均時間: \", sum(reg_times)/len(reg_times))\n",
    "std_dev = statistics.stdev(reg_times)\n",
    "print(\"標準差:\", std_dev)"
   ]
  },
  {
   "cell_type": "code",
   "execution_count": 3,
   "id": "1512741a-3db3-400d-8ff6-03efae501e03",
   "metadata": {},
   "outputs": [
    {
     "name": "stdout",
     "output_type": "stream",
     "text": [
      "/NFS/PeiMao/ANTsPy\n"
     ]
    },
    {
     "name": "stderr",
     "output_type": "stream",
     "text": [
      "preprocessing: 100% 60/60 [02:51<00:00,  2.86s/it]"
     ]
    },
    {
     "name": "stdout",
     "output_type": "stream",
     "text": [
      "[2.5146946907043457, 2.3392586708068848, 2.502948045730591, 2.5403077602386475, 2.51115345954895, 2.547611951828003, 2.38456654548645, 2.241039752960205, 2.3582096099853516, 2.45821475982666, 2.186026096343994, 2.464221954345703, 2.1830215454101562, 2.575047492980957, 2.1912357807159424, 2.129995822906494, 2.1976211071014404, 2.019484519958496, 2.2554965019226074, 2.243903875350952, 2.611363649368286, 2.3310816287994385, 2.2110493183135986, 2.477128267288208, 2.3029768466949463, 2.7146332263946533, 2.395900011062622, 2.3387234210968018, 2.396893262863159, 2.4473021030426025, 2.3204562664031982, 2.354597568511963, 2.3757431507110596, 2.3660941123962402, 2.432922601699829, 2.2836389541625977, 2.401370048522949, 2.3720157146453857, 2.472930669784546, 2.5605459213256836, 2.069246292114258, 2.3797552585601807, 2.449756145477295, 2.4521782398223877, 2.408707618713379, 2.001121997833252, 2.267871618270874, 1.9751975536346436, 2.3760135173797607, 2.537142515182495, 2.2711966037750244, 2.52868914604187, 2.3791346549987793, 2.271496534347534, 2.256118059158325, 2.4391820430755615, 2.2760796546936035, 2.4282164573669434, 2.2846291065216064, 2.174133539199829]\n",
      "平均時間:  2.353954887390137\n",
      "標準差: 0.15217343626251553\n"
     ]
    },
    {
     "name": "stderr",
     "output_type": "stream",
     "text": [
      "\n"
     ]
    }
   ],
   "source": [
    "#use ants registration data to CC0245(Affine)\n",
    "import os\n",
    "import nibabel as nib\n",
    "from tqdm import tqdm\n",
    "%cd /NFS/PeiMao/ANTsPy\n",
    "import ants\n",
    "import time\n",
    "import statistics\n",
    "\n",
    "\n",
    "# 设置包含 .nii.gz 文件的目录路径\n",
    "directory_path = '/NFS/PeiMao/dataset_tigerbx/CC359_60'\n",
    "\n",
    "# 生成文件路径列表\n",
    "nii_gz_files = [os.path.join(directory_path, file) for file in os.listdir(directory_path) if file.endswith('.nii.gz')]\n",
    "#fixed_image = ants.image_read('/NFS/PeiMao/GitHub/C2FViT_Medical_Image/Data/MNI152_T1_1mm_brain_pad_RSP_RAS_crop.nii.gz')  # 模板影像\n",
    "fixed_image = ants.image_read('/NFS/PeiMao/AffTestTemplate/CC0245_crop/mni152_reshape_norm.nii.gz')  # 模板影像\n",
    "\n",
    "reg_times = []\n",
    "for file in tqdm(nii_gz_files, desc='preprocessing'):\n",
    "    #多餘的\n",
    "    if not os.path.exists(os.path.join('/NFS/PeiMao/GitHub/C2FViT_Medical_Image/Result_ANTs2CC0245_crop', os.path.basename(file))):\n",
    "        # 加载图像数据\n",
    "        moving_image = ants.image_read(file)\n",
    "        moving_seg = ants.image_read('/NFS/PeiMao/dataset_tigerbx/CC359_60_aseg/'+ file.split(\"/\")[-1].replace('.nii', '_aseg.nii'))\n",
    "        \n",
    "        start = time.time()        \n",
    "        # 進行仿射註冊\n",
    "        mytx = ants.registration(fixed=fixed_image, moving=moving_image, type_of_transform='Affine')\n",
    "        reg_time = time.time() - start\n",
    "        reg_times.append(reg_time)\n",
    "        \n",
    "        # 将形变场作用于moving图像，得到配准后的图像，interpolator也可以选择\"nearestNeighbor\"等\n",
    "        warped_img = ants.apply_transforms(fixed=fixed_image, moving=moving_image, transformlist=mytx['fwdtransforms'], interpolator=\"linear\")\n",
    "        # 对moving图像对应的label图进行配准\n",
    "        warped_label = ants.apply_transforms(fixed=fixed_image, moving=moving_seg, transformlist=mytx['fwdtransforms'], interpolator=\"nearestNeighbor\")\n",
    "    \n",
    "        # 獲取仿射變換後的影像\n",
    "        #transformed_moving_image = registration['warpedmovout']\n",
    "        # 如果需要，保存變換後的影像\n",
    "        ants.image_write(warped_img, '/NFS/PeiMao/GitHub/C2FViT_Medical_Image/Result_ANTs2CC0245_crop/' + file.split(\"/\")[-1])\n",
    "        ants.image_write(warped_label, '/NFS/PeiMao/GitHub/C2FViT_Medical_Image/Result_ANTs2CC0245_crop/' + file.split(\"/\")[-1].replace('.nii', '_aseg.nii'))\n",
    "    \n",
    "print(reg_times)\n",
    "print(\"平均時間: \", sum(reg_times)/len(reg_times))\n",
    "std_dev = statistics.stdev(reg_times)\n",
    "print(\"標準差:\", std_dev)"
   ]
  },
  {
   "cell_type": "code",
   "execution_count": 4,
   "id": "8067cb58-390f-47ea-bdb7-37587f22b6cd",
   "metadata": {},
   "outputs": [
    {
     "name": "stdout",
     "output_type": "stream",
     "text": [
      "/NFS/PeiMao/ANTsPy\n"
     ]
    },
    {
     "name": "stderr",
     "output_type": "stream",
     "text": [
      "preprocessing: 100% 60/60 [05:16<00:00,  5.27s/it]"
     ]
    },
    {
     "name": "stdout",
     "output_type": "stream",
     "text": [
      "[4.1943700313568115, 4.649416446685791, 4.417273998260498, 4.287059783935547, 3.2931973934173584, 4.316757440567017, 4.224740266799927, 3.1621415615081787, 4.158677816390991, 4.26457142829895, 3.9418954849243164, 4.696454763412476, 4.492063045501709, 4.217015266418457, 4.094946622848511, 3.654991388320923, 3.8451647758483887, 4.098189115524292, 4.0024473667144775, 4.58794379234314, 4.654662609100342, 4.296588897705078, 5.03245997428894, 4.334345102310181, 4.4469897747039795, 4.837412595748901, 4.366263151168823, 4.514492511749268, 3.699773073196411, 5.215469837188721, 4.33392333984375, 5.1812121868133545, 5.363536596298218, 5.691918849945068, 5.190917015075684, 5.056513071060181, 4.814040660858154, 5.33746600151062, 5.201610326766968, 5.2561421394348145, 4.010010719299316, 4.600244522094727, 3.9374125003814697, 4.911979913711548, 4.93507981300354, 5.599941968917847, 4.893896818161011, 4.374038457870483, 4.83008599281311, 4.601772785186768, 4.766933917999268, 4.610300302505493, 4.8614702224731445, 4.1131861209869385, 4.934293270111084, 3.720717668533325, 3.8016116619110107, 4.617575407028198, 4.762196063995361, 4.775668382644653]\n",
      "平均時間:  4.518057866891225\n",
      "標準差: 0.5373166608213421\n"
     ]
    },
    {
     "name": "stderr",
     "output_type": "stream",
     "text": [
      "\n"
     ]
    }
   ],
   "source": [
    "#use ants registration data to CC0245(Affine)(Adjustment)\n",
    "import os\n",
    "import nibabel as nib\n",
    "from tqdm import tqdm\n",
    "%cd /NFS/PeiMao/ANTsPy\n",
    "import ants\n",
    "import time\n",
    "import statistics\n",
    "\n",
    "\n",
    "# 设置包含 .nii.gz 文件的目录路径\n",
    "directory_path = '/NFS/PeiMao/dataset_tigerbx/CC359_60'\n",
    "\n",
    "# 生成文件路径列表\n",
    "nii_gz_files = [os.path.join(directory_path, file) for file in os.listdir(directory_path) if file.endswith('.nii.gz')]\n",
    "#fixed_image = ants.image_read('/NFS/PeiMao/GitHub/C2FViT_Medical_Image/Data/MNI152_T1_1mm_brain_pad_RSP_RAS_crop.nii.gz')  # 模板影像\n",
    "fixed_image = ants.image_read('/NFS/PeiMao/AffTestTemplate/CC0245/mni152_reshape_norm.nii.gz')  # 模板影像\n",
    "\n",
    "reg_times = []\n",
    "for file in tqdm(nii_gz_files, desc='preprocessing'):\n",
    "    #多餘的\n",
    "    if not os.path.exists(os.path.join('/NFS/PeiMao/GitHub/C2FViT_Medical_Image/test_Result', os.path.basename(file))):\n",
    "        # 加载图像数据\n",
    "        moving_image = ants.image_read(file)\n",
    "        moving_seg = ants.image_read('/NFS/PeiMao/dataset_tigerbx/CC359_60_aseg/'+ file.split(\"/\")[-1].replace('.nii', '_aseg.nii'))\n",
    "        \n",
    "        start = time.time()        \n",
    "        # 進行仿射註冊\n",
    "        mytx = ants.registration(fixed=fixed_image, moving=moving_image, type_of_transform='Affine',     \n",
    "                                 metric='CC',                     # 使用交叉相關性作為評估指標\n",
    "                                reg_iterations=[1000, 500, 250], # 增加金字塔層級迭代次數\n",
    "                                sampling_strategy='Regular',     # 規則採樣\n",
    "                                sampling_percentage=0.8)         # 提高採樣比例\n",
    "        reg_time = time.time() - start\n",
    "        reg_times.append(reg_time)\n",
    "        \n",
    "        # 将形变场作用于moving图像，得到配准后的图像，interpolator也可以选择\"nearestNeighbor\"等\n",
    "        warped_img = ants.apply_transforms(fixed=fixed_image, moving=moving_image, transformlist=mytx['fwdtransforms'], interpolator=\"linear\")\n",
    "        # 对moving图像对应的label图进行配准\n",
    "        warped_label = ants.apply_transforms(fixed=fixed_image, moving=moving_seg, transformlist=mytx['fwdtransforms'], interpolator=\"nearestNeighbor\")\n",
    "    \n",
    "        # 獲取仿射變換後的影像\n",
    "        #transformed_moving_image = registration['warpedmovout']\n",
    "        # 如果需要，保存變換後的影像\n",
    "        ants.image_write(warped_img, '/NFS/PeiMao/GitHub/C2FViT_Medical_Image/test_Result/' + file.split(\"/\")[-1])\n",
    "        ants.image_write(warped_label, '/NFS/PeiMao/GitHub/C2FViT_Medical_Image/test_Result/' + file.split(\"/\")[-1].replace('.nii', '_aseg.nii'))\n",
    "    \n",
    "print(reg_times)\n",
    "print(\"平均時間: \", sum(reg_times)/len(reg_times))\n",
    "std_dev = statistics.stdev(reg_times)\n",
    "print(\"標準差:\", std_dev)"
   ]
  },
  {
   "cell_type": "code",
   "execution_count": 1,
   "id": "30f431cd-64d3-4bd3-92c8-711951dea000",
   "metadata": {},
   "outputs": [
    {
     "name": "stderr",
     "output_type": "stream",
     "text": [
      "/opt/conda/lib/python3.10/site-packages/scipy/__init__.py:146: UserWarning: A NumPy version >=1.16.5 and <1.23.0 is required for this version of SciPy (detected version 1.24.3\n",
      "  warnings.warn(f\"A NumPy version >={np_minversion} and <{np_maxversion}\"\n"
     ]
    },
    {
     "name": "stdout",
     "output_type": "stream",
     "text": [
      "/NFS/PeiMao/ANTsPy\n"
     ]
    },
    {
     "name": "stderr",
     "output_type": "stream",
     "text": [
      "/NFS/PeiMao/ANTsPy/ants/viz/render_surface_function.py:15: UserWarning: Cant import Plotly. Install it `pip install chart_studio` if you want to use ants.render_surface_function\n",
      "  warnings.warn(\n",
      "preprocessing:   7% 4/60 [1:39:01<22:35:16, 1452.09s/it]IOStream.flush timed out\n",
      "preprocessing:   8% 5/60 [2:00:57<21:26:04, 1403.00s/it]IOStream.flush timed out\n",
      "preprocessing:  50% 30/60 [14:46:38<16:50:50, 2021.67s/it]IOStream.flush timed out\n",
      "preprocessing:  52% 31/60 [15:23:28<16:44:28, 2078.24s/it]IOStream.flush timed out\n",
      "preprocessing:  53% 32/60 [15:59:46<16:23:51, 2108.27s/it]IOStream.flush timed out\n",
      "preprocessing:  55% 33/60 [16:17:00<13:23:43, 1786.06s/it]IOStream.flush timed out\n",
      "preprocessing:  58% 35/60 [17:28:39<13:42:35, 1974.24s/it]IOStream.flush timed out\n",
      "preprocessing:  60% 36/60 [17:57:46<12:42:25, 1906.06s/it]IOStream.flush timed out\n",
      "preprocessing:  67% 40/60 [19:42:41<8:51:49, 1595.49s/it] IOStream.flush timed out\n",
      "preprocessing: 100% 60/60 [28:54:57<00:00, 1734.96s/it]  "
     ]
    },
    {
     "name": "stdout",
     "output_type": "stream",
     "text": [
      "[1856.97838139534, 1358.4856808185577, 1156.470350265503, 1559.4368023872375, 1313.4063625335693, 1976.344715833664, 1110.7917728424072, 1858.1003482341766, 1531.5146527290344, 1866.7345688343048, 884.9856235980988, 1586.3585619926453, 1402.6175091266632, 1833.88933634758, 2043.3122041225433, 2260.846214532852, 2021.3164644241333, 2273.3258452415466, 2446.173663377762, 2370.8960099220276, 2110.487461566925, 1728.5107572078705, 1825.0021347999573, 1897.209406375885, 2061.07718873024, 928.8305978775024, 985.1067175865173, 2310.87410902977, 2100.4862987995148, 2451.609023809433, 2207.167771577835, 2175.1376855373383, 1031.017677783966, 2112.248535633087, 2179.435210466385, 1744.408724784851, 1732.6537630558014, 1980.7602994441986, 1166.9140560626984, 1404.0906918048859, 1888.378081560135, 1970.333579301834, 1689.0946600437164, 1609.2448012828827, 1727.3315851688385, 2122.196760892868, 1859.460845708847, 1607.6349589824677, 1618.9476203918457, 1917.8115572929382, 1682.2627685070038, 1084.9153306484222, 1901.1841957569122, 1053.4221124649048, 1176.2860305309296, 1917.1313400268555, 1416.6901414394379, 1548.2127649784088, 1650.4592187404633, 1644.9851353168488]\n",
      "平均時間:  1732.1832778255146\n",
      "標準差: 405.40629732810135\n"
     ]
    },
    {
     "name": "stderr",
     "output_type": "stream",
     "text": [
      "\n"
     ]
    }
   ],
   "source": [
    "#use ants registration data to CC0245(SyNCC)\n",
    "import os\n",
    "import nibabel as nib\n",
    "from tqdm import tqdm\n",
    "%cd /NFS/PeiMao/ANTsPy\n",
    "import ants\n",
    "import time\n",
    "import statistics\n",
    "\n",
    "\n",
    "# 设置包含 .nii.gz 文件的目录路径\n",
    "directory_path = '/NFS/PeiMao/dataset_tigerbx/CC359_60'\n",
    "\n",
    "# 生成文件路径列表\n",
    "nii_gz_files = [os.path.join(directory_path, file) for file in os.listdir(directory_path) if file.endswith('.nii.gz')]\n",
    "#fixed_image = ants.image_read('/NFS/PeiMao/GitHub/C2FViT_Medical_Image/Data/MNI152_T1_1mm_brain_pad_RSP_RAS_crop.nii.gz')  # 模板影像\n",
    "fixed_image = ants.image_read('/NFS/PeiMao/AffTestTemplate/CC0245/mni152_reshape_norm.nii.gz')  # 模板影像\n",
    "\n",
    "reg_times = []\n",
    "for file in tqdm(nii_gz_files, desc='preprocessing'):\n",
    "    #多餘的\n",
    "    if not os.path.exists(os.path.join('/NFS/PeiMao/GitHub/C2FViT_Medical_Image/Result_ANTsSyNCC2CC0245', os.path.basename(file))):\n",
    "        # 加载图像数据\n",
    "        moving_image = ants.image_read(file)\n",
    "        moving_seg = ants.image_read('/NFS/PeiMao/dataset_tigerbx/CC359_60_aseg/'+ file.split(\"/\")[-1].replace('.nii', '_aseg.nii'))\n",
    "        \n",
    "        start = time.time()        \n",
    "        # 進行仿射註冊\n",
    "        mytx = ants.registration(fixed=fixed_image, moving=moving_image, type_of_transform='SyNCC')\n",
    "        reg_time = time.time() - start\n",
    "        reg_times.append(reg_time)\n",
    "        \n",
    "        # 将形变场作用于moving图像，得到配准后的图像，interpolator也可以选择\"nearestNeighbor\"等\n",
    "        warped_img = ants.apply_transforms(fixed=fixed_image, moving=moving_image, transformlist=mytx['fwdtransforms'], interpolator=\"linear\")\n",
    "        # 对moving图像对应的label图进行配准\n",
    "        warped_label = ants.apply_transforms(fixed=fixed_image, moving=moving_seg, transformlist=mytx['fwdtransforms'], interpolator=\"nearestNeighbor\")\n",
    "    \n",
    "        # 獲取仿射變換後的影像\n",
    "        #transformed_moving_image = registration['warpedmovout']\n",
    "        # 如果需要，保存變換後的影像\n",
    "        ants.image_write(warped_img, '/NFS/PeiMao/GitHub/C2FViT_Medical_Image/Result_ANTsSyNCC2CC0245/' + file.split(\"/\")[-1])\n",
    "        ants.image_write(warped_label, '/NFS/PeiMao/GitHub/C2FViT_Medical_Image/Result_ANTsSyNCC2CC0245/' + file.split(\"/\")[-1].replace('.nii', '_aseg.nii'))\n",
    "    \n",
    "print(reg_times)\n",
    "print(\"平均時間: \", sum(reg_times)/len(reg_times))\n",
    "std_dev = statistics.stdev(reg_times)\n",
    "print(\"標準差:\", std_dev)"
   ]
  },
  {
   "cell_type": "code",
   "execution_count": 7,
   "id": "79cfdbdf-ab63-4dd5-92c1-ed5141737628",
   "metadata": {},
   "outputs": [
    {
     "name": "stdout",
     "output_type": "stream",
     "text": [
      "/NFS/PeiMao/ANTsPy\n"
     ]
    },
    {
     "name": "stderr",
     "output_type": "stream",
     "text": [
      "preprocessing: 100% 60/60 [05:21<00:00,  5.36s/it]"
     ]
    },
    {
     "name": "stdout",
     "output_type": "stream",
     "text": [
      "[4.091771364212036, 4.304831504821777, 4.145843029022217, 3.7257654666900635, 3.9709219932556152, 4.8025593757629395, 4.827903985977173, 3.7479326725006104, 4.197835683822632, 4.337051868438721, 3.7874808311462402, 4.288906574249268, 4.232365846633911, 4.238005876541138, 4.50438117980957, 4.23406457901001, 4.29134726524353, 4.457407474517822, 4.127167701721191, 4.030674457550049, 3.7818620204925537, 3.4821720123291016, 4.818402051925659, 4.338131666183472, 4.496948480606079, 4.350947618484497, 4.6682960987091064, 4.429278135299683, 4.287793397903442, 4.367949962615967, 4.821550369262695, 5.144000291824341, 4.785971641540527, 5.168181896209717, 5.239082098007202, 5.092227220535278, 4.964928865432739, 4.757328748703003, 4.867201089859009, 4.964106321334839, 4.923030376434326, 5.1420979499816895, 4.113990545272827, 3.632939338684082, 4.742215871810913, 5.152939081192017, 5.182673215866089, 4.780710935592651, 4.276222467422485, 3.6855075359344482, 4.527369260787964, 5.1261584758758545, 4.56653904914856, 4.1938817501068115, 4.495289087295532, 4.554033041000366, 4.733624696731567, 4.156113147735596, 4.7314958572387695, 4.689313650131226]\n",
      "平均時間:  4.4762787342071535\n",
      "標準差: 0.4432344796798494\n"
     ]
    },
    {
     "name": "stderr",
     "output_type": "stream",
     "text": [
      "\n"
     ]
    }
   ],
   "source": [
    "#use ants registration data to MNI\n",
    "import os\n",
    "import nibabel as nib\n",
    "from tqdm import tqdm\n",
    "%cd /NFS/PeiMao/ANTsPy\n",
    "import ants\n",
    "import time\n",
    "import statistics\n",
    "\n",
    "\n",
    "# 设置包含 .nii.gz 文件的目录路径\n",
    "directory_path = '/NFS/PeiMao/dataset_tigerbx/CC359_60'\n",
    "\n",
    "# 生成文件路径列表\n",
    "nii_gz_files = [os.path.join(directory_path, file) for file in os.listdir(directory_path) if file.endswith('.nii.gz')]\n",
    "#fixed_image = ants.image_read('/NFS/PeiMao/GitHub/C2FViT_Medical_Image/Data/MNI152_T1_1mm_brain_pad_RSP_RAS_crop.nii.gz')  # 模板影像\n",
    "fixed_image = ants.image_read('/NFS/PeiMao/AffTestTemplate/MNI152_T1_1mm_brain_pad_RSP_RAS/mni152_reshape_norm.nii.gz')  # 模板影像\n",
    "\n",
    "reg_times = []\n",
    "for file in tqdm(nii_gz_files, desc='preprocessing'):\n",
    "    #多餘的\n",
    "    if not os.path.exists(os.path.join('/NFS/PeiMao/GitHub/C2FViT_Medical_Image/Result_ANTs2MNI', os.path.basename(file))):\n",
    "        # 加载图像数据\n",
    "        moving_image = ants.image_read(file)\n",
    "        moving_seg = ants.image_read('/NFS/PeiMao/dataset_tigerbx/CC359_60_aseg/'+ file.split(\"/\")[-1].replace('.nii', '_aseg.nii'))\n",
    "        \n",
    "        start = time.time()        \n",
    "        # 進行仿射註冊\n",
    "        mytx = ants.registration(fixed=fixed_image, moving=moving_image, type_of_transform='Affine')\n",
    "        reg_time = time.time() - start\n",
    "        reg_times.append(reg_time)\n",
    "        \n",
    "        # 将形变场作用于moving图像，得到配准后的图像，interpolator也可以选择\"nearestNeighbor\"等\n",
    "        warped_img = ants.apply_transforms(fixed=fixed_image, moving=moving_image, transformlist=mytx['fwdtransforms'], interpolator=\"linear\")\n",
    "        # 对moving图像对应的label图进行配准\n",
    "        warped_label = ants.apply_transforms(fixed=fixed_image, moving=moving_seg, transformlist=mytx['fwdtransforms'], interpolator=\"nearestNeighbor\")\n",
    "    \n",
    "        # 獲取仿射變換後的影像\n",
    "        #transformed_moving_image = registration['warpedmovout']\n",
    "        # 如果需要，保存變換後的影像\n",
    "        ants.image_write(warped_img, '/NFS/PeiMao/GitHub/C2FViT_Medical_Image/Result_ANTs2MNI/' + file.split(\"/\")[-1])\n",
    "        ants.image_write(warped_label, '/NFS/PeiMao/GitHub/C2FViT_Medical_Image/Result_ANTs2MNI/' + file.split(\"/\")[-1].replace('.nii', '_aseg.nii'))\n",
    "    \n",
    "print(reg_times)\n",
    "print(\"平均時間: \", sum(reg_times)/len(reg_times))\n",
    "std_dev = statistics.stdev(reg_times)\n",
    "print(\"標準差:\", std_dev)"
   ]
  },
  {
   "cell_type": "code",
   "execution_count": null,
   "id": "b9fab3af-55cc-43de-af34-5ac50a3fa5c8",
   "metadata": {},
   "outputs": [],
   "source": []
  }
 ],
 "metadata": {
  "kernelspec": {
   "display_name": "Python 3 (ipykernel)",
   "language": "python",
   "name": "python3"
  },
  "language_info": {
   "codemirror_mode": {
    "name": "ipython",
    "version": 3
   },
   "file_extension": ".py",
   "mimetype": "text/x-python",
   "name": "python",
   "nbconvert_exporter": "python",
   "pygments_lexer": "ipython3",
   "version": "3.10.12"
  }
 },
 "nbformat": 4,
 "nbformat_minor": 5
}
